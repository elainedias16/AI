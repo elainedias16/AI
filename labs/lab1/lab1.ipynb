{
  "nbformat": 4,
  "nbformat_minor": 0,
  "metadata": {
    "colab": {
      "provenance": [],
      "authorship_tag": "ABX9TyOV8n+i+JKqpy8zhjmiw8Hf",
      "include_colab_link": true
    },
    "kernelspec": {
      "name": "python3",
      "display_name": "Python 3"
    },
    "language_info": {
      "name": "python"
    }
  },
  "cells": [
    {
      "cell_type": "markdown",
      "metadata": {
        "id": "view-in-github",
        "colab_type": "text"
      },
      "source": [
        "<a href=\"https://colab.research.google.com/github/elainedias16/AI/blob/main/lab1.ipynb\" target=\"_parent\"><img src=\"https://colab.research.google.com/assets/colab-badge.svg\" alt=\"Open In Colab\"/></a>"
      ]
    },
    {
      "cell_type": "markdown",
      "source": [
        "1) Definir a função step para mudar um descritor de estado adicionando um novo valor ao estado corrente.\n",
        "\n",
        "Exemplos:\n",
        "\n",
        "step ([]) => [[0],[1]]\n",
        "\n",
        "step ([1,0,1]) => [[1,0,1,0], [1,0,1,1]]"
      ],
      "metadata": {
        "id": "ZEQhpZj1gVO2"
      }
    },
    {
      "cell_type": "code",
      "execution_count": 92,
      "metadata": {
        "id": "Qk2A_4L9fPEO"
      },
      "outputs": [],
      "source": [
        "import numpy as np\n",
        "def step (l):\n",
        "    return [l+[0], l+[1]]\n"
      ]
    },
    {
      "cell_type": "code",
      "source": [
        "step ([1])"
      ],
      "metadata": {
        "colab": {
          "base_uri": "https://localhost:8080/"
        },
        "id": "Igre4ngugkwl",
        "outputId": "c15e98b8-403e-4837-b0c3-bfa450edbbf9"
      },
      "execution_count": 93,
      "outputs": [
        {
          "output_type": "execute_result",
          "data": {
            "text/plain": [
              "[[1, 0], [1, 1]]"
            ]
          },
          "metadata": {},
          "execution_count": 93
        }
      ]
    },
    {
      "cell_type": "markdown",
      "source": [
        "2) Definir a função expand que receba uma lista de estados e expanda cada um deles usando a função step definida no item 1.\n",
        "\n",
        "Exemplos:\n",
        "\n",
        "expand ([]) => [[0],[1]]\n",
        "\n",
        "expand ([ [0],[1] ] ) => [[0, 0], [0, 1], [1, 0], [1, 1]]\n",
        "\n",
        "expand ([ [1,0,1] ]) => [[1,0,1,0], [1,0,1,1]]"
      ],
      "metadata": {
        "id": "gkodIhDChHUz"
      }
    },
    {
      "cell_type": "code",
      "source": [
        "def expand(l):\n",
        "    list = []\n",
        "    if l == []:\n",
        "      list = step([])\n",
        "    else:\n",
        "      for i in l:\n",
        "        list += step(i)\n",
        "    return list"
      ],
      "metadata": {
        "id": "oXdCdS6UhQ_D"
      },
      "execution_count": 94,
      "outputs": []
    },
    {
      "cell_type": "code",
      "source": [
        "# expand([[0], [1]])\n",
        "# expand ( [ [0], [1] ] )\n",
        "#[]          # 0\n",
        "# expand([]) #1\n",
        "# expand([[0], [1]]) #2\n",
        "expand([[0, 0], [0, 1], [1, 0], [1, 1]])\n",
        "\n",
        "# expand([[0], [1]])\n",
        "# expand([[0,0],[0,1], [1,0], [1, 1] ])  #3"
      ],
      "metadata": {
        "colab": {
          "base_uri": "https://localhost:8080/"
        },
        "id": "i-Qn-qaPhjN_",
        "outputId": "4398b7e2-82bb-47c7-9408-b07c00f5a1c9"
      },
      "execution_count": 95,
      "outputs": [
        {
          "output_type": "execute_result",
          "data": {
            "text/plain": [
              "[[0, 0, 0],\n",
              " [0, 0, 1],\n",
              " [0, 1, 0],\n",
              " [0, 1, 1],\n",
              " [1, 0, 0],\n",
              " [1, 0, 1],\n",
              " [1, 1, 0],\n",
              " [1, 1, 1]]"
            ]
          },
          "metadata": {},
          "execution_count": 95
        }
      ]
    },
    {
      "cell_type": "markdown",
      "source": [
        "3) Definir a função combine que receba um tamanho de estado e retorne todas as possíveis configurações de estados.\n",
        "\n",
        "combine (0) => []\n",
        "\n",
        "combine (1) => [[0], [1]]\n",
        "\n",
        "combine (2) => [[0, 0], [0, 1], [1, 0], [1, 1]]\n",
        "\n",
        "combine (3) => [[0, 0, 0], [0, 0, 1], [0, 1, 0], [0, 1, 1], [1, 0, 0], [1, 0, 1], [1, 1, 0], [1, 1, 1]]"
      ],
      "metadata": {
        "id": "6XQIGv2Aq_Oc"
      }
    },
    {
      "cell_type": "code",
      "source": [
        "def combine(number):\n",
        "  l = []\n",
        "\n",
        "  if number == 0:\n",
        "    return l\n",
        "  else:\n",
        "    for i in range(0,number):\n",
        "      l = expand(l)\n",
        "\n",
        "  return l"
      ],
      "metadata": {
        "id": "vpJV59uNrJhG"
      },
      "execution_count": 96,
      "outputs": []
    },
    {
      "cell_type": "code",
      "source": [
        "combine(3)"
      ],
      "metadata": {
        "colab": {
          "base_uri": "https://localhost:8080/"
        },
        "id": "lbN6a_yjt-3x",
        "outputId": "22ff3e2b-d58a-4508-a12c-31f36cf643ad"
      },
      "execution_count": 97,
      "outputs": [
        {
          "output_type": "execute_result",
          "data": {
            "text/plain": [
              "[[0, 0, 0],\n",
              " [0, 0, 1],\n",
              " [0, 1, 0],\n",
              " [0, 1, 1],\n",
              " [1, 0, 0],\n",
              " [1, 0, 1],\n",
              " [1, 1, 0],\n",
              " [1, 1, 1]]"
            ]
          },
          "metadata": {},
          "execution_count": 97
        }
      ]
    },
    {
      "cell_type": "markdown",
      "source": [
        "4) Definir a função size que recebe um estado e uma lista de tamanhos de itens e determina o tamanho total ocupado\n",
        "pelo estado.\n",
        "\n",
        "size ([],[]) => 0\n",
        "\n",
        "size ([0, 0, 0], [1, 7, 4]) => 0\n",
        "\n",
        "size ([1, 0, 1], [1, 7, 4]) => 5\n",
        "\n",
        "size ([1, 1, 1], [1, 7, 4]) => 12"
      ],
      "metadata": {
        "id": "QcV8HvGjG3LG"
      }
    },
    {
      "cell_type": "code",
      "source": [
        "def size(l_state, l_size):\n",
        "  sum = 0\n",
        "  for i in range (0, len(l_state)):\n",
        "    if l_state[i] == 1:\n",
        "      sum += l_size[i] \n",
        "  return sum\n"
      ],
      "metadata": {
        "id": "9tnMShSNG9pZ"
      },
      "execution_count": 98,
      "outputs": []
    },
    {
      "cell_type": "code",
      "source": [
        "size([1, 1, 1], [1, 7, 4])"
      ],
      "metadata": {
        "colab": {
          "base_uri": "https://localhost:8080/"
        },
        "id": "tjzSk-4iHlDK",
        "outputId": "9fef5592-5798-49f1-e734-b25e316c02cd"
      },
      "execution_count": 99,
      "outputs": [
        {
          "output_type": "execute_result",
          "data": {
            "text/plain": [
              "12"
            ]
          },
          "metadata": {},
          "execution_count": 99
        }
      ]
    },
    {
      "cell_type": "markdown",
      "source": [
        "5) Definir a função size que recebe um estado, uma lista de tamanhos de itens e o tamanho da mochila e determina o\n",
        "estado é válido, isto é, se seu tamanho é menor ou igual ao tamanho da mochila.\n",
        "\n",
        "valid ([1, 0, 1], [1, 7, 4], 8) => True\n",
        "\n",
        "valid ([1, 0, 1], [1, 7, 4], 2) => False"
      ],
      "metadata": {
        "id": "F9w6zDBAJi_C"
      }
    },
    {
      "cell_type": "code",
      "source": [
        "def valid_size(l_state, l_size, max_size):\n",
        "  tam = size(l_state, l_size)\n",
        "  if tam <= max_size:\n",
        "    return True\n",
        "  else:\n",
        "    return False\n",
        "  "
      ],
      "metadata": {
        "id": "znU6YpHLJwUF"
      },
      "execution_count": 100,
      "outputs": []
    },
    {
      "cell_type": "code",
      "source": [
        "valid_size([1, 0, 1], [1, 7, 4], 2)"
      ],
      "metadata": {
        "colab": {
          "base_uri": "https://localhost:8080/"
        },
        "id": "KcT1x2evKh7O",
        "outputId": "5fecf6c7-10ab-490a-c0b3-1a8e2237b253"
      },
      "execution_count": 101,
      "outputs": [
        {
          "output_type": "execute_result",
          "data": {
            "text/plain": [
              "False"
            ]
          },
          "metadata": {},
          "execution_count": 101
        }
      ]
    },
    {
      "cell_type": "markdown",
      "source": [
        "5.2 \n",
        "Definir a função solution que recebe um estado e uma lista de tamanhos de itens e retorna uma lista de tamanhos de\n",
        "itens que compõem o estado.\n",
        "\n",
        "solution ([0, 0, 0], [1, 7, 4])=> []\n",
        "\n",
        "solution ([0, 0, 1], [1, 7, 4])=> [4]\n",
        "\n",
        "solution ([1, 0, 1], [1, 7, 4])=> [1,4]"
      ],
      "metadata": {
        "id": "CZSVpJIkKtCe"
      }
    },
    {
      "cell_type": "code",
      "source": [
        "def solution(l_state, l_size):\n",
        "  l = []\n",
        "  for i in range (0, len(l_state)):\n",
        "    if l_state[i] == 1:\n",
        "      l.append( l_size[i] )\n",
        "  return l\n"
      ],
      "metadata": {
        "id": "pHXDQN8MK7aF"
      },
      "execution_count": 102,
      "outputs": []
    },
    {
      "cell_type": "code",
      "source": [
        "solution ([1, 0, 1], [1, 7, 4])"
      ],
      "metadata": {
        "colab": {
          "base_uri": "https://localhost:8080/"
        },
        "id": "UQD1c10ALUhu",
        "outputId": "4758c218-64d1-4cdf-fe2d-bedc5cd98180"
      },
      "execution_count": 103,
      "outputs": [
        {
          "output_type": "execute_result",
          "data": {
            "text/plain": [
              "[1, 4]"
            ]
          },
          "metadata": {},
          "execution_count": 103
        }
      ]
    },
    {
      "cell_type": "markdown",
      "source": [
        "6) Definir a função blindSearchKnapsack01 que recebe o tamanho da mochila e uma lista de tamanhos de itens e\n",
        "retorna uma lista de tuplas contendo todas soluções válidas e seus respectivos tamanhos.\n",
        "\n",
        "blindSearchKnapsack01 (3, [1, 7, 8])=> [([], 0), ([1], 1)]\n",
        "\n",
        "blindSearchKnapsack01 (8, [1, 7, 8])=> [([], 0), ([8], 8), ([7], 7), ([1], 1), ([1, 7], 8)]"
      ],
      "metadata": {
        "id": "X9Av1CGqLhoa"
      }
    },
    {
      "cell_type": "code",
      "source": [
        "from itertools import combinations\n",
        " \n",
        "def blindSearchKnapsack01(size, l_size):\n",
        "  l_comb = []\n",
        "  l_list = []\n",
        "\n",
        "  for i in range( 0,  len(l_size) ):\n",
        "    l_comb += list( (combinations(l_size, i) ) ) \n",
        "\n",
        "  for i in range(0, len(l_comb)):\n",
        "    _sum = sum(l_comb[i])\n",
        "    if _sum <= size:\n",
        "      l_list.append((l_comb[i], _sum))\n",
        " \n",
        "  return l_list"
      ],
      "metadata": {
        "id": "XSW1_0lfLofW"
      },
      "execution_count": 104,
      "outputs": []
    },
    {
      "cell_type": "code",
      "source": [
        "blindSearchKnapsack01 (8, [1, 7, 8])"
      ],
      "metadata": {
        "colab": {
          "base_uri": "https://localhost:8080/"
        },
        "id": "zOYJzgNdvP62",
        "outputId": "4b31ab48-2600-46b3-af97-1add83170ade"
      },
      "execution_count": 105,
      "outputs": [
        {
          "output_type": "execute_result",
          "data": {
            "text/plain": [
              "[((), 0), ((1,), 1), ((7,), 7), ((8,), 8), ((1, 7), 8)]"
            ]
          },
          "metadata": {},
          "execution_count": 105
        }
      ]
    },
    {
      "cell_type": "markdown",
      "source": [
        "7 Definir a função blindSearchKnapsack01Max que recebe o tamanho da mochila e uma lista de tamanhos de itens e\n",
        "retorna uma lista de tuplas contendo todas soluções que maximizam o tamanho ocupado das mochilas e seus respectivos\n",
        "tamanhos.\n",
        "\n",
        "blindSearchKnapsack01Max (8, [1, 7, 4]) => [([1, 7], 8)]\n",
        "\n",
        "blindSearchKnapsack01Max (8, [1, 7, 8]) => [([8], 8), ([1, 7], 8)]"
      ],
      "metadata": {
        "id": "0S7Eg94V3mO2"
      }
    },
    {
      "cell_type": "code",
      "source": [
        "# def SearchKnapsack02(size, l_size):\n",
        "#   max = 0\n",
        "#   l = blindSearchKnapsack01(size, l_size)\n",
        "\n",
        "#   # for i in range(0, len(l)):\n",
        "#   #   print(i)\n",
        "#     # if i[1] > max:\n",
        "#     #   max = i[1]\n",
        "  \n",
        "#   return max"
      ],
      "metadata": {
        "id": "8xzdEivM6pxQ"
      },
      "execution_count": 106,
      "outputs": []
    },
    {
      "cell_type": "code",
      "source": [
        "# SearchKnapsack02(8, [1, 7, 4])"
      ],
      "metadata": {
        "id": "LliM5Fc676Br"
      },
      "execution_count": 107,
      "outputs": []
    }
  ]
}