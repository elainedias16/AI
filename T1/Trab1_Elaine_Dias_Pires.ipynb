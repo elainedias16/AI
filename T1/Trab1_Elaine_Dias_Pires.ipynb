{
  "cells": [
    {
      "cell_type": "markdown",
      "metadata": {
        "id": "view-in-github",
        "colab_type": "text"
      },
      "source": [
        "<a href=\"https://colab.research.google.com/github/elainedias16/AI/blob/main/Trab1_Elaine_Dias_Pires.ipynb\" target=\"_parent\"><img src=\"https://colab.research.google.com/assets/colab-badge.svg\" alt=\"Open In Colab\"/></a>"
      ]
    },
    {
      "cell_type": "markdown",
      "metadata": {
        "id": "1ertQB2HsKpK"
      },
      "source": [
        "<br>\n",
        "<br>\n",
        "\n",
        "<h1><center><b>Primeiro Trabalho de Inteligência Artificial</b></center></h1>\n",
        "\n",
        "<h1><center>Ciência da Computação</center></h1>\n",
        "<h2><center>Inteligência Artificial - 2023/1</center></h2>\n",
        "\n",
        "\n",
        "\n",
        "<h4><center>\n",
        "\n",
        "  <p>\n",
        "  Elaine Dias Pires </br>\n",
        "  elaine.pires@edu.ufes.br </br>\n",
        "  2020101903\n",
        "  </p>\n",
        "\n",
        "</center></h4>\n",
        "\n",
        "</br>\n",
        "\n",
        "<h5><center>Professor: Flávio Miguel Varejão</center></h5>\n",
        "\n",
        "<br>\n",
        "\n",
        "<br>\n",
        "\n",
        "<br>\n",
        "\n",
        "<br>\n",
        "\n",
        "<br>\n",
        "\n",
        "---\n",
        "\n"
      ]
    },
    {
      "cell_type": "markdown",
      "metadata": {
        "id": "Vu9Ru1HlYYJW"
      },
      "source": [
        "#Criação do Dataframe\n",
        "\n"
      ]
    },
    {
      "cell_type": "markdown",
      "metadata": {
        "id": "ZMGwaSE9bDE4"
      },
      "source": [
        "A função abaixo foi feita utilizando os códigos disponibilizados no classroom. A única alteração realizada foi no subconjunto dos descritores, que foram reduzidos apenas para os descritores HU, devido ao final de matrícula."
      ]
    },
    {
      "cell_type": "code",
      "execution_count": null,
      "metadata": {
        "colab": {
          "base_uri": "https://localhost:8080/"
        },
        "id": "_8HtO2KQiHwa",
        "outputId": "5be34c64-0de0-482d-8de4-44830c86d514"
      },
      "outputs": [
        {
          "output_type": "stream",
          "name": "stdout",
          "text": [
            "[dtype('O'), dtype('O'), dtype('O'), dtype('O'), dtype('O'), dtype('O'), dtype('O'), dtype('O'), dtype('O'), dtype('O'), dtype('O'), dtype('O'), dtype('O'), dtype('O'), dtype('O'), dtype('O'), dtype('O'), dtype('O'), dtype('O'), dtype('O'), dtype('O'), dtype('O'), dtype('O')]\n",
            "[dtype('float64'), dtype('float64'), dtype('float64'), dtype('float64'), dtype('float64'), dtype('float64'), dtype('float64'), dtype('float64'), dtype('float64'), dtype('float64'), dtype('float64'), dtype('float64'), dtype('float64'), dtype('float64'), dtype('float64'), dtype('float64'), dtype('float64'), dtype('float64'), dtype('float64'), dtype('float64'), dtype('float64'), dtype('float64'), dtype('float64')]\n"
          ]
        }
      ],
      "source": [
        "import pandas as pd\n",
        "\n",
        "def create_dataframe():\n",
        "\n",
        "  #Leitura dos dados para o pandas\n",
        "  df = pd.read_csv('https://raw.githubusercontent.com/VitorBonella/PL-Dataset/main/dataset.csv',sep=\";\")\n",
        "  df.set_index('id',inplace=True) #Transformando a coluna id no indice da tabela\n",
        "\n",
        "  #Observem que a classe esta separada em duas colunas então devemos concatenadas para formar uma coluna só chamada classe\n",
        "  df['classe'] = df['tipo_lampada'].str.replace(\" \", \"\") + df['potencia'].astype(str)\n",
        "\n",
        "  # Lista de Indices\n",
        "  FOURIER = ['df01', 'df02', 'df03', 'df04','df05', 'df06', 'df07', 'df08', 'df09', 'df10']\n",
        "  HU = ['i1', 'i2', 'i3', 'i4','i5', 'i6', 'i7']\n",
        "  HARALICK = ['probmax', 'energia', 'entropia', 'contraste','homogeneidade', 'correlacao']\n",
        "  ALL = FOURIER + HU + HARALICK\n",
        "\n",
        "  # Verificar o tipo da coluna\n",
        "  print(list(df[ALL].dtypes)) #o list(...) foi usado apenas para imprimir na vertical\n",
        "  df[ALL].head(2)\n",
        "\n",
        "  #Transformando os dados de string para float\n",
        "  df[ALL] = df[ALL].apply(lambda x: x.str.replace(',', '.').astype(float), axis=1)\n",
        "  print(list(df[ALL].dtypes))\n",
        "  df[ALL].head(2)\n",
        "\n",
        "  #Separando o subconjunto relativo ao último dígito da matrícula.\n",
        "  X = df[HU]\n",
        "\n",
        "  #Target\n",
        "  y = df['classe']\n",
        "\n",
        "  return X, y\n",
        "\n",
        "X, y = create_dataframe()\n",
        "\n",
        "# Array criado para armazenar os resultados dos classificadores.\n",
        "# Posteriormente será utilizado para gerar a tabela com os resultados.\n",
        "clf_results = []\n",
        "\n",
        "# Array criado para armazenar os scores dos classificadores.\n",
        "clf_scores = []"
      ]
    },
    {
      "cell_type": "markdown",
      "metadata": {
        "id": "oi70-BR-cJAk"
      },
      "source": [
        "#Classificadores"
      ]
    },
    {
      "cell_type": "markdown",
      "metadata": {
        "id": "dX8A5pzJ7HGo"
      },
      "source": [
        "##Classificador ZeroR"
      ]
    },
    {
      "cell_type": "markdown",
      "metadata": {
        "id": "4_SarSrHsbI3"
      },
      "source": [
        "Para o classificador ZeroR será feito treino e teste com 3 rodadas de validação cruzada estratificada com 10 fold.\n"
      ]
    },
    {
      "cell_type": "code",
      "execution_count": null,
      "metadata": {
        "colab": {
          "base_uri": "https://localhost:8080/"
        },
        "id": "RmycqJp4vowb",
        "outputId": "ab893481-bea5-4e57-8263-17e50cc11108"
      },
      "outputs": [
        {
          "output_type": "stream",
          "name": "stdout",
          "text": [
            "0.16505747126436784 0.01088257506073069 0.16116326335092349 0.1689516791778122\n",
            "\n",
            "Mean Accuracy: 0.17 Standard Deviation: 0.01\n",
            "Accuracy Confidence Interval (95%): (0.16, 0.17)\n",
            "\n"
          ]
        }
      ],
      "source": [
        "import numpy as np\n",
        "from scipy import stats\n",
        "from sklearn import datasets\n",
        "from sklearn.model_selection import cross_val_predict\n",
        "from sklearn.model_selection import RepeatedStratifiedKFold\n",
        "from sklearn.dummy import DummyClassifier\n",
        "from sklearn.metrics import confusion_matrix\n",
        "import matplotlib.pyplot as plt\n",
        "from sklearn.model_selection import cross_val_score\n",
        "\n",
        "\n",
        "zR = DummyClassifier(random_state=11)\n",
        "\n",
        "rkf = RepeatedStratifiedKFold(n_splits=10, n_repeats=3, random_state=36851234)\n",
        "scores = cross_val_score(zR, X, y, cv=rkf, scoring='accuracy')\n",
        "\n",
        "mean = scores.mean()\n",
        "std = scores.std()\n",
        "inf, sup = stats.norm.interval(0.95, loc=mean, scale=std/np.sqrt(len(scores)))\n",
        "\n",
        "print(mean, std, inf, sup)\n",
        "\n",
        "print(\"\\nMean Accuracy: %0.2f Standard Deviation: %0.2f\" % (mean, std))\n",
        "print (\"Accuracy Confidence Interval (95%%): (%0.2f, %0.2f)\\n\" %\n",
        "       (inf, sup))\n",
        "\n",
        "\n",
        "clf_results.append([mean, std, inf, sup])\n",
        "clf_scores.append(scores)"
      ]
    },
    {
      "cell_type": "markdown",
      "metadata": {
        "id": "AuAPBezZhPdP"
      },
      "source": [
        "##Classificador Bagging"
      ]
    },
    {
      "cell_type": "markdown",
      "metadata": {
        "id": "xmguQMFcgqAj"
      },
      "source": [
        "Para os classificadores que precisam de ajustes nos hiperparâmetros, isto é, Bagging, AdaBoost, Random Forest e Heterogeneous Pooling será feito o procedimento de treinamento, validação e teste através de 3 rodadas de ciclos aninhados de validação e teste, com o ciclo interno de validação contendo 4 folds e o externo de teste com 10 folds.\n",
        "\n",
        "A busca em grade (grid search) do ciclo interno considerará os\n",
        "seguintes valores de hiperparâmetros para cada técnica de aprendizado:\n",
        "\n",
        "Bagging: [n_estimators = 3, 9, 15, 21]\n",
        "\n",
        "AdaBoost: [n_estimators = 3, 9, 15, 21]\n",
        "\n",
        "RandomForest: [n_estimators = 3, 9, 15, 21]\n",
        "\n",
        "HeterogeneousPooling: [n_samples = 1, 3, 5, 7]"
      ]
    },
    {
      "cell_type": "code",
      "execution_count": null,
      "metadata": {
        "id": "GDUFblQPhOrk",
        "colab": {
          "base_uri": "https://localhost:8080/"
        },
        "outputId": "af1b5704-3497-4e14-a0df-f0e6acf06316"
      },
      "outputs": [
        {
          "output_type": "stream",
          "name": "stdout",
          "text": [
            "0.48647509578544057 0.10406190222094655 0.4492377065778836 0.5237124849929976\n",
            "\n",
            "Mean Accuracy: 0.49 Standard Deviation: 0.10\n",
            "Accuracy Confidence Interval (95%): (0.45, 0.52)\n",
            "\n"
          ]
        }
      ],
      "source": [
        "from sklearn.ensemble import BaggingClassifier\n",
        "from sklearn.tree import DecisionTreeClassifier\n",
        "from sklearn.model_selection import cross_val_score, GridSearchCV, RepeatedStratifiedKFold\n",
        "from sklearn.preprocessing import StandardScaler\n",
        "from sklearn.pipeline import Pipeline\n",
        "from scipy import stats\n",
        "\n",
        "#Definindo o classificador Bagging\n",
        "ba =  BaggingClassifier(random_state=11)\n",
        "\n",
        "#Normalização\n",
        "scalar = StandardScaler()\n",
        "pipeline = Pipeline([('transformer', scalar), ('estimator', ba)])\n",
        "\n",
        "#Busca em grade conforme a especificação\n",
        "grade={'estimator__n_estimators': [ 3, 9, 15, 21]}\n",
        "gs = GridSearchCV(estimator=pipeline, param_grid = grade,\n",
        "                  scoring='accuracy', cv = 4)\n",
        "\n",
        "rkf = RepeatedStratifiedKFold(n_splits=10, n_repeats=3, random_state=36851234)\n",
        "\n",
        "scores = cross_val_score(gs, X, y, scoring='accuracy',\n",
        "                         cv = rkf)\n",
        "# print(scores)\n",
        "mean = scores.mean()\n",
        "std = scores.std()\n",
        "inf, sup = stats.norm.interval(0.95, loc=mean,\n",
        "                               scale=std/np.sqrt(len(scores)))\n",
        "print(mean, std, inf, sup)\n",
        "\n",
        "print(\"\\nMean Accuracy: %0.2f Standard Deviation: %0.2f\" % (mean, std))\n",
        "print (\"Accuracy Confidence Interval (95%%): (%0.2f, %0.2f)\\n\" %\n",
        "       (inf, sup))\n",
        "\n",
        "\n",
        "clf_results.append([mean, std, inf, sup])\n",
        "clf_scores.append(scores)"
      ]
    },
    {
      "cell_type": "markdown",
      "metadata": {
        "id": "lMChnezjhSNo"
      },
      "source": [
        "##Classificador AdaBoost"
      ]
    },
    {
      "cell_type": "code",
      "execution_count": null,
      "metadata": {
        "id": "3dh-DX3chb7u",
        "colab": {
          "base_uri": "https://localhost:8080/"
        },
        "outputId": "c629d74f-c837-4143-9785-162435560a70"
      },
      "outputs": [
        {
          "output_type": "stream",
          "name": "stdout",
          "text": [
            "0.2649425287356321 0.021173046113171473 0.2573659907135642 0.27251906675770005\n",
            "\n",
            "Mean Accuracy: 0.26 Standard Deviation: 0.02\n",
            "Accuracy Confidence Interval (95%): (0.26, 0.27)\n",
            "\n"
          ]
        }
      ],
      "source": [
        "from sklearn.ensemble import AdaBoostClassifier\n",
        "from sklearn.model_selection import cross_val_score, GridSearchCV, RepeatedStratifiedKFold\n",
        "from sklearn.pipeline import Pipeline\n",
        "from sklearn.preprocessing import StandardScaler\n",
        "from scipy import stats\n",
        "\n",
        "#Definindo o classificador Ada Boost\n",
        "aB = AdaBoostClassifier(random_state=11)\n",
        "\n",
        "#Normalização\n",
        "scalar = StandardScaler()\n",
        "pipeline = Pipeline([('transformer', scalar), ('estimator', aB)])\n",
        "\n",
        "#Busca em grade\n",
        "grade={'estimator__n_estimators': [ 3, 9, 15, 21]}\n",
        "gs = GridSearchCV(estimator=pipeline, param_grid = grade,\n",
        "                  scoring='accuracy', cv = 4)\n",
        "\n",
        "rkf = RepeatedStratifiedKFold(n_splits=10, n_repeats=3, random_state=36851234)\n",
        "\n",
        "scores = cross_val_score(gs, X, y, scoring='accuracy',\n",
        "                         cv = rkf)\n",
        "\n",
        "# print(scores)\n",
        "mean = scores.mean()\n",
        "std = scores.std()\n",
        "inf, sup = stats.norm.interval(0.95, loc=mean,\n",
        "                               scale=std/np.sqrt(len(scores)))\n",
        "print(mean, std, inf, sup)\n",
        "print(\"\\nMean Accuracy: %0.2f Standard Deviation: %0.2f\" % (mean, std))\n",
        "print (\"Accuracy Confidence Interval (95%%): (%0.2f, %0.2f)\\n\" %\n",
        "       (inf, sup))\n",
        "\n",
        "clf_results.append([mean, std, inf, sup])\n",
        "clf_scores.append(scores)"
      ]
    },
    {
      "cell_type": "markdown",
      "metadata": {
        "id": "pstbMkxihdSn"
      },
      "source": [
        "##Classificador Random Forest"
      ]
    },
    {
      "cell_type": "code",
      "execution_count": null,
      "metadata": {
        "colab": {
          "base_uri": "https://localhost:8080/"
        },
        "id": "SqynpBudhghF",
        "outputId": "bf0a565d-a982-461f-83fe-de232aed5a1f"
      },
      "outputs": [
        {
          "output_type": "stream",
          "name": "stdout",
          "text": [
            "0.45831417624521076 0.10144459428883845 0.4220133614425402 0.4946149910478813\n",
            "\n",
            "Mean Accuracy: 0.46 Standard Deviation: 0.10\n",
            "Accuracy Confidence Interval (95%): (0.42, 0.49)\n",
            "\n"
          ]
        }
      ],
      "source": [
        "from sklearn.ensemble import RandomForestClassifier\n",
        "from sklearn.model_selection import cross_val_score, GridSearchCV, RepeatedStratifiedKFold\n",
        "from sklearn.pipeline import Pipeline\n",
        "from sklearn.preprocessing import StandardScaler\n",
        "\n",
        "#Definindo o classificador RandomForest\n",
        "rF = RandomForestClassifier(random_state=11)\n",
        "\n",
        "#Normalização\n",
        "scalar = StandardScaler()\n",
        "pipeline = Pipeline([('transformer', scalar), ('estimator', rF)])\n",
        "\n",
        "#Busca em grade\n",
        "grade={'estimator__n_estimators': [3, 9, 15, 21]}\n",
        "gs = GridSearchCV(estimator=pipeline, param_grid = grade,\n",
        "                  scoring='accuracy', cv = 4)\n",
        "\n",
        "rkf = RepeatedStratifiedKFold(n_splits=10, n_repeats=3, random_state=36851234)\n",
        "\n",
        "scores = cross_val_score(gs, X, y, scoring='accuracy',\n",
        "                         cv = rkf)\n",
        "\n",
        "# print(scores)\n",
        "mean = scores.mean()\n",
        "std = scores.std()\n",
        "inf, sup = stats.norm.interval(0.95, loc=mean,\n",
        "                               scale=std/np.sqrt(len(scores)))\n",
        "\n",
        "print(mean, std, inf, sup)\n",
        "print(\"\\nMean Accuracy: %0.2f Standard Deviation: %0.2f\" % (mean, std))\n",
        "print (\"Accuracy Confidence Interval (95%%): (%0.2f, %0.2f)\\n\" %\n",
        "       (inf, sup))\n",
        "\n",
        "clf_results.append([mean, std, inf, sup])\n",
        "clf_scores.append(scores)"
      ]
    },
    {
      "cell_type": "markdown",
      "metadata": {
        "id": "Swh6OLdkaCI-"
      },
      "source": [
        "##Classificador Heterogeneous Pooling"
      ]
    },
    {
      "cell_type": "code",
      "source": [
        "from sklearn.utils.extmath import check_random_state\n",
        "from sklearn.base import BaseEstimator\n",
        "from sklearn.neighbors import KNeighborsClassifier\n",
        "from sklearn.naive_bayes import GaussianNB\n",
        "from sklearn.tree import DecisionTreeClassifier\n",
        "from sklearn.utils import resample\n",
        "\n",
        "from collections import Counter\n",
        "import numpy as np\n",
        "from builtins import max\n",
        "\n",
        "class HeterogeneousPooling(BaseEstimator):\n",
        "  def __init__(self, n_samples=1):\n",
        "        super().__init__()\n",
        "        self.n_samples = n_samples\n",
        "        self.hp_comb= []\n",
        "        self.predict_list = []\n",
        "\n",
        "  def fit(self, X_train, y_train):\n",
        "    #Armazenando as frequências em ordem decrescente\n",
        "    self.frequency_classes = y_train.value_counts().index.tolist()\n",
        "\n",
        "    knn = KNeighborsClassifier()\n",
        "    dT = DecisionTreeClassifier(random_state=11)\n",
        "    gNB = GaussianNB()\n",
        "\n",
        "    random_state = 0\n",
        "    for i in range(0, self.n_samples):\n",
        "      if( i == 0):\n",
        "        self.hp_comb.append(knn.fit(X_train, y_train))\n",
        "        self.hp_comb.append(dT.fit(X_train, y_train))\n",
        "        self.hp_comb.append(gNB.fit(X_train, y_train))\n",
        "\n",
        "      else:\n",
        "        new_X_train, new_y_train = resample(X_train, y_train, replace=True,random_state=check_random_state(random_state))\n",
        "        self.hp_comb.append(knn.fit(new_X_train, new_y_train))\n",
        "        self.hp_comb.append(dT.fit(new_X_train, new_y_train))\n",
        "        self.hp_comb.append(gNB.fit(new_X_train, new_y_train))\n",
        "        random_state += 1\n",
        "\n",
        "\n",
        "  def predict(self, X_test):\n",
        "    predicted_class = []\n",
        "    predicted_class_tranposed = []\n",
        "\n",
        "    #Classificação individual\n",
        "    for clf in self.hp_comb:\n",
        "      predicted_class.append(clf.predict(X_test)) #Cada linha é um classificador do combinado e as colunas são as predições\n",
        "\n",
        "    #Passando as predições para as linhas para ficar mais fácil de iterar\n",
        "    predicted_class_transposed = np.transpose(predicted_class)\n",
        "\n",
        "    #Contando quantas vezes cada classe foi selecionada e obtendo as mais votadas\n",
        "    most_voted_classes = []\n",
        "    index = 0\n",
        "    for line in predicted_class_transposed:\n",
        "      count = Counter(line)\n",
        "      qtd_max = max(count.values())\n",
        "      most_voted_classes.append([])\n",
        "      for key,value in count.items():\n",
        "        if(value == qtd_max):\n",
        "          most_voted_classes[index].append(key)\n",
        "      index  += 1\n",
        "\n",
        "    #Verificação da frequência, pois pode haver mais de uma classe mais votada\n",
        "    for i in range(0, len(most_voted_classes)):\n",
        "      if len(most_voted_classes[i]) > 1:\n",
        "        for j in range(0, len(self.frequency_classes)):\n",
        "          if(self.frequency_classes[j] in most_voted_classes[i]):\n",
        "            self.predict_list.append(self.frequency_classes[j])\n",
        "            break\n",
        "      else:\n",
        "        self.predict_list.append(most_voted_classes[i][0])\n",
        "\n",
        "    return self.predict_list\n",
        "\n",
        "\n",
        "\n",
        "hP = HeterogeneousPooling()\n",
        "\n",
        "# #Normalização\n",
        "scalar = StandardScaler()\n",
        "pipeline = Pipeline([('transformer', scalar), ('estimator', hP)])\n",
        "\n",
        "#Busca em grade\n",
        "grade={'estimator__n_samples': [1, 3, 5, 7]}\n",
        "gs = GridSearchCV(estimator=pipeline, param_grid = grade,\n",
        "                  scoring='accuracy', cv = 4)\n",
        "\n",
        "rkf = RepeatedStratifiedKFold(n_splits=10, n_repeats=3, random_state=36851234)\n",
        "\n",
        "scores = cross_val_score(gs, X, y, scoring='accuracy',\n",
        "                         cv = rkf)\n",
        "\n",
        "# print(scores)\n",
        "mean = scores.mean()\n",
        "std = scores.std()\n",
        "inf, sup = stats.norm.interval(0.95, loc=mean,\n",
        "                               scale=std/np.sqrt(len(scores)))\n",
        "\n",
        "print(mean, std, inf, sup)\n",
        "print(\"\\nMean Accuracy: %0.2f Standard Deviation: %0.2f\" % (mean, std))\n",
        "print (\"Accuracy Confidence Interval (95%%): (%0.2f, %0.2f)\\n\" %\n",
        "       (inf, sup))\n",
        "\n",
        "clf_results.append([mean, std, inf, sup])\n",
        "clf_scores.append(scores)"
      ],
      "metadata": {
        "id": "G2njOULFoGMx",
        "colab": {
          "base_uri": "https://localhost:8080/"
        },
        "outputId": "fc15e6f6-9c30-4a1f-a9cf-5df25214e57f"
      },
      "execution_count": null,
      "outputs": [
        {
          "output_type": "stream",
          "name": "stdout",
          "text": [
            "0.3494252873563219 0.08052269023106909 0.320611142196766 0.37823943251587777\n",
            "\n",
            "Mean Accuracy: 0.35 Standard Deviation: 0.08\n",
            "Accuracy Confidence Interval (95%): (0.32, 0.38)\n",
            "\n"
          ]
        }
      ]
    },
    {
      "cell_type": "markdown",
      "metadata": {
        "id": "77Gbjt2GjyZh"
      },
      "source": [
        "#Resultados\n",
        "\n",
        "\n",
        "\n",
        "\n"
      ]
    },
    {
      "cell_type": "markdown",
      "metadata": {
        "id": "ttbVsjWspEYY"
      },
      "source": [
        "##Tabela de Média, Desvio Padrão, Limite Inferior e Superior"
      ]
    },
    {
      "cell_type": "code",
      "execution_count": null,
      "metadata": {
        "id": "MVBWPRGRj-iU",
        "colab": {
          "base_uri": "https://localhost:8080/",
          "height": 206
        },
        "outputId": "9ad96526-db8c-48c7-e0ed-26cbba9c2311"
      },
      "outputs": [
        {
          "output_type": "execute_result",
          "data": {
            "text/plain": [
              "  Método     Média  Desvio Padrão  Limite Inferior  Limite Superior\n",
              "0     ZR  0.165057       0.010883         0.161163         0.168952\n",
              "1     BA  0.486475       0.104062         0.449238         0.523712\n",
              "2     AB  0.264943       0.021173         0.257366         0.272519\n",
              "3     RF  0.458314       0.101445         0.422013         0.494615\n",
              "4     HP  0.349425       0.080523         0.320611         0.378239"
            ],
            "text/html": [
              "\n",
              "  <div id=\"df-74c3563e-89af-4366-b4b5-394a972ffcb3\">\n",
              "    <div class=\"colab-df-container\">\n",
              "      <div>\n",
              "<style scoped>\n",
              "    .dataframe tbody tr th:only-of-type {\n",
              "        vertical-align: middle;\n",
              "    }\n",
              "\n",
              "    .dataframe tbody tr th {\n",
              "        vertical-align: top;\n",
              "    }\n",
              "\n",
              "    .dataframe thead th {\n",
              "        text-align: right;\n",
              "    }\n",
              "</style>\n",
              "<table border=\"1\" class=\"dataframe\">\n",
              "  <thead>\n",
              "    <tr style=\"text-align: right;\">\n",
              "      <th></th>\n",
              "      <th>Método</th>\n",
              "      <th>Média</th>\n",
              "      <th>Desvio Padrão</th>\n",
              "      <th>Limite Inferior</th>\n",
              "      <th>Limite Superior</th>\n",
              "    </tr>\n",
              "  </thead>\n",
              "  <tbody>\n",
              "    <tr>\n",
              "      <th>0</th>\n",
              "      <td>ZR</td>\n",
              "      <td>0.165057</td>\n",
              "      <td>0.010883</td>\n",
              "      <td>0.161163</td>\n",
              "      <td>0.168952</td>\n",
              "    </tr>\n",
              "    <tr>\n",
              "      <th>1</th>\n",
              "      <td>BA</td>\n",
              "      <td>0.486475</td>\n",
              "      <td>0.104062</td>\n",
              "      <td>0.449238</td>\n",
              "      <td>0.523712</td>\n",
              "    </tr>\n",
              "    <tr>\n",
              "      <th>2</th>\n",
              "      <td>AB</td>\n",
              "      <td>0.264943</td>\n",
              "      <td>0.021173</td>\n",
              "      <td>0.257366</td>\n",
              "      <td>0.272519</td>\n",
              "    </tr>\n",
              "    <tr>\n",
              "      <th>3</th>\n",
              "      <td>RF</td>\n",
              "      <td>0.458314</td>\n",
              "      <td>0.101445</td>\n",
              "      <td>0.422013</td>\n",
              "      <td>0.494615</td>\n",
              "    </tr>\n",
              "    <tr>\n",
              "      <th>4</th>\n",
              "      <td>HP</td>\n",
              "      <td>0.349425</td>\n",
              "      <td>0.080523</td>\n",
              "      <td>0.320611</td>\n",
              "      <td>0.378239</td>\n",
              "    </tr>\n",
              "  </tbody>\n",
              "</table>\n",
              "</div>\n",
              "      <button class=\"colab-df-convert\" onclick=\"convertToInteractive('df-74c3563e-89af-4366-b4b5-394a972ffcb3')\"\n",
              "              title=\"Convert this dataframe to an interactive table.\"\n",
              "              style=\"display:none;\">\n",
              "        \n",
              "  <svg xmlns=\"http://www.w3.org/2000/svg\" height=\"24px\"viewBox=\"0 0 24 24\"\n",
              "       width=\"24px\">\n",
              "    <path d=\"M0 0h24v24H0V0z\" fill=\"none\"/>\n",
              "    <path d=\"M18.56 5.44l.94 2.06.94-2.06 2.06-.94-2.06-.94-.94-2.06-.94 2.06-2.06.94zm-11 1L8.5 8.5l.94-2.06 2.06-.94-2.06-.94L8.5 2.5l-.94 2.06-2.06.94zm10 10l.94 2.06.94-2.06 2.06-.94-2.06-.94-.94-2.06-.94 2.06-2.06.94z\"/><path d=\"M17.41 7.96l-1.37-1.37c-.4-.4-.92-.59-1.43-.59-.52 0-1.04.2-1.43.59L10.3 9.45l-7.72 7.72c-.78.78-.78 2.05 0 2.83L4 21.41c.39.39.9.59 1.41.59.51 0 1.02-.2 1.41-.59l7.78-7.78 2.81-2.81c.8-.78.8-2.07 0-2.86zM5.41 20L4 18.59l7.72-7.72 1.47 1.35L5.41 20z\"/>\n",
              "  </svg>\n",
              "      </button>\n",
              "      \n",
              "  <style>\n",
              "    .colab-df-container {\n",
              "      display:flex;\n",
              "      flex-wrap:wrap;\n",
              "      gap: 12px;\n",
              "    }\n",
              "\n",
              "    .colab-df-convert {\n",
              "      background-color: #E8F0FE;\n",
              "      border: none;\n",
              "      border-radius: 50%;\n",
              "      cursor: pointer;\n",
              "      display: none;\n",
              "      fill: #1967D2;\n",
              "      height: 32px;\n",
              "      padding: 0 0 0 0;\n",
              "      width: 32px;\n",
              "    }\n",
              "\n",
              "    .colab-df-convert:hover {\n",
              "      background-color: #E2EBFA;\n",
              "      box-shadow: 0px 1px 2px rgba(60, 64, 67, 0.3), 0px 1px 3px 1px rgba(60, 64, 67, 0.15);\n",
              "      fill: #174EA6;\n",
              "    }\n",
              "\n",
              "    [theme=dark] .colab-df-convert {\n",
              "      background-color: #3B4455;\n",
              "      fill: #D2E3FC;\n",
              "    }\n",
              "\n",
              "    [theme=dark] .colab-df-convert:hover {\n",
              "      background-color: #434B5C;\n",
              "      box-shadow: 0px 1px 3px 1px rgba(0, 0, 0, 0.15);\n",
              "      filter: drop-shadow(0px 1px 2px rgba(0, 0, 0, 0.3));\n",
              "      fill: #FFFFFF;\n",
              "    }\n",
              "  </style>\n",
              "\n",
              "      <script>\n",
              "        const buttonEl =\n",
              "          document.querySelector('#df-74c3563e-89af-4366-b4b5-394a972ffcb3 button.colab-df-convert');\n",
              "        buttonEl.style.display =\n",
              "          google.colab.kernel.accessAllowed ? 'block' : 'none';\n",
              "\n",
              "        async function convertToInteractive(key) {\n",
              "          const element = document.querySelector('#df-74c3563e-89af-4366-b4b5-394a972ffcb3');\n",
              "          const dataTable =\n",
              "            await google.colab.kernel.invokeFunction('convertToInteractive',\n",
              "                                                     [key], {});\n",
              "          if (!dataTable) return;\n",
              "\n",
              "          const docLinkHtml = 'Like what you see? Visit the ' +\n",
              "            '<a target=\"_blank\" href=https://colab.research.google.com/notebooks/data_table.ipynb>data table notebook</a>'\n",
              "            + ' to learn more about interactive tables.';\n",
              "          element.innerHTML = '';\n",
              "          dataTable['output_type'] = 'display_data';\n",
              "          await google.colab.output.renderOutput(dataTable, element);\n",
              "          const docLink = document.createElement('div');\n",
              "          docLink.innerHTML = docLinkHtml;\n",
              "          element.appendChild(docLink);\n",
              "        }\n",
              "      </script>\n",
              "    </div>\n",
              "  </div>\n",
              "  "
            ]
          },
          "metadata": {},
          "execution_count": 46
        }
      ],
      "source": [
        "import pandas as pd\n",
        "\n",
        "clf = ['ZR', 'BA', 'AB', 'RF', 'HP']\n",
        "\n",
        "df_results = pd.DataFrame(clf_results, columns=[ 'Média', 'Desvio Padrão',\n",
        "                           'Limite Inferior', 'Limite Superior'],)\n",
        "\n",
        "df_results.insert(0, \"Método\", clf, True)\n",
        "\n",
        "df_results"
      ]
    },
    {
      "cell_type": "markdown",
      "metadata": {
        "id": "6QAgCLm0pSI7"
      },
      "source": [
        "##Boxplot"
      ]
    },
    {
      "cell_type": "code",
      "source": [
        "import pandas as pd\n",
        "import seaborn as sns\n",
        "import matplotlib.pyplot as plt\n",
        "\n",
        "df_list = []\n",
        "for index, value in enumerate(clf_scores):\n",
        "  df_list.append(pd.DataFrame(value, columns=['Acurácia']).assign(Classificador=clf[index]))\n",
        "\n",
        "df_concat = pd.concat(df_list)\n",
        "sns.set(rc = { 'figure.figsize' : (6, 4)})\n",
        "out = sns.boxplot(data = df_concat, x = 'Classificador', y = 'Acurácia', showmeans=True);"
      ],
      "metadata": {
        "colab": {
          "base_uri": "https://localhost:8080/",
          "height": 396
        },
        "id": "6TpZ0pAgsQ1q",
        "outputId": "44829248-e386-4299-e21c-a1d14e6303c1"
      },
      "execution_count": null,
      "outputs": [
        {
          "output_type": "display_data",
          "data": {
            "text/plain": [
              "<Figure size 600x400 with 1 Axes>"
            ],
            "image/png": "[encoded data removed]"
          },
          "metadata": {}
        }
      ]
    },
    {
      "cell_type": "markdown",
      "metadata": {
        "id": "SGqMQN0opIjg"
      },
      "source": [
        "##Tabela pareada p-values"
      ]
    },
    {
      "cell_type": "code",
      "execution_count": null,
      "metadata": {
        "id": "pljlrxhBp8fJ",
        "colab": {
          "base_uri": "https://localhost:8080/",
          "height": 206
        },
        "outputId": "527f7991-ee77-4a17-a2aa-e2051aa592b4"
      },
      "outputs": [
        {
          "output_type": "execute_result",
          "data": {
            "text/plain": [
              "          0         1         2         3         4\n",
              "0        ZR  0.000002  0.000001  0.000002  0.000002\n",
              "1  0.000002        BA  0.000002  0.140056  0.000005\n",
              "2  0.000001  0.000002        AB  0.000002   0.00011\n",
              "3  0.000002  0.140056  0.000002        RF  0.000013\n",
              "4  0.000002  0.000005   0.00011  0.000013        HP"
            ],
            "text/html": [
              "\n",
              "  <div id=\"df-9b4677a2-273d-42a3-8693-6bc7d3ff8f2e\">\n",
              "    <div class=\"colab-df-container\">\n",
              "      <div>\n",
              "<style scoped>\n",
              "    .dataframe tbody tr th:only-of-type {\n",
              "        vertical-align: middle;\n",
              "    }\n",
              "\n",
              "    .dataframe tbody tr th {\n",
              "        vertical-align: top;\n",
              "    }\n",
              "\n",
              "    .dataframe thead th {\n",
              "        text-align: right;\n",
              "    }\n",
              "</style>\n",
              "<table border=\"1\" class=\"dataframe\">\n",
              "  <thead>\n",
              "    <tr style=\"text-align: right;\">\n",
              "      <th></th>\n",
              "      <th>0</th>\n",
              "      <th>1</th>\n",
              "      <th>2</th>\n",
              "      <th>3</th>\n",
              "      <th>4</th>\n",
              "    </tr>\n",
              "  </thead>\n",
              "  <tbody>\n",
              "    <tr>\n",
              "      <th>0</th>\n",
              "      <td>ZR</td>\n",
              "      <td>0.000002</td>\n",
              "      <td>0.000001</td>\n",
              "      <td>0.000002</td>\n",
              "      <td>0.000002</td>\n",
              "    </tr>\n",
              "    <tr>\n",
              "      <th>1</th>\n",
              "      <td>0.000002</td>\n",
              "      <td>BA</td>\n",
              "      <td>0.000002</td>\n",
              "      <td>0.140056</td>\n",
              "      <td>0.000005</td>\n",
              "    </tr>\n",
              "    <tr>\n",
              "      <th>2</th>\n",
              "      <td>0.000001</td>\n",
              "      <td>0.000002</td>\n",
              "      <td>AB</td>\n",
              "      <td>0.000002</td>\n",
              "      <td>0.00011</td>\n",
              "    </tr>\n",
              "    <tr>\n",
              "      <th>3</th>\n",
              "      <td>0.000002</td>\n",
              "      <td>0.140056</td>\n",
              "      <td>0.000002</td>\n",
              "      <td>RF</td>\n",
              "      <td>0.000013</td>\n",
              "    </tr>\n",
              "    <tr>\n",
              "      <th>4</th>\n",
              "      <td>0.000002</td>\n",
              "      <td>0.000005</td>\n",
              "      <td>0.00011</td>\n",
              "      <td>0.000013</td>\n",
              "      <td>HP</td>\n",
              "    </tr>\n",
              "  </tbody>\n",
              "</table>\n",
              "</div>\n",
              "      <button class=\"colab-df-convert\" onclick=\"convertToInteractive('df-9b4677a2-273d-42a3-8693-6bc7d3ff8f2e')\"\n",
              "              title=\"Convert this dataframe to an interactive table.\"\n",
              "              style=\"display:none;\">\n",
              "        \n",
              "  <svg xmlns=\"http://www.w3.org/2000/svg\" height=\"24px\"viewBox=\"0 0 24 24\"\n",
              "       width=\"24px\">\n",
              "    <path d=\"M0 0h24v24H0V0z\" fill=\"none\"/>\n",
              "    <path d=\"M18.56 5.44l.94 2.06.94-2.06 2.06-.94-2.06-.94-.94-2.06-.94 2.06-2.06.94zm-11 1L8.5 8.5l.94-2.06 2.06-.94-2.06-.94L8.5 2.5l-.94 2.06-2.06.94zm10 10l.94 2.06.94-2.06 2.06-.94-2.06-.94-.94-2.06-.94 2.06-2.06.94z\"/><path d=\"M17.41 7.96l-1.37-1.37c-.4-.4-.92-.59-1.43-.59-.52 0-1.04.2-1.43.59L10.3 9.45l-7.72 7.72c-.78.78-.78 2.05 0 2.83L4 21.41c.39.39.9.59 1.41.59.51 0 1.02-.2 1.41-.59l7.78-7.78 2.81-2.81c.8-.78.8-2.07 0-2.86zM5.41 20L4 18.59l7.72-7.72 1.47 1.35L5.41 20z\"/>\n",
              "  </svg>\n",
              "      </button>\n",
              "      \n",
              "  <style>\n",
              "    .colab-df-container {\n",
              "      display:flex;\n",
              "      flex-wrap:wrap;\n",
              "      gap: 12px;\n",
              "    }\n",
              "\n",
              "    .colab-df-convert {\n",
              "      background-color: #E8F0FE;\n",
              "      border: none;\n",
              "      border-radius: 50%;\n",
              "      cursor: pointer;\n",
              "      display: none;\n",
              "      fill: #1967D2;\n",
              "      height: 32px;\n",
              "      padding: 0 0 0 0;\n",
              "      width: 32px;\n",
              "    }\n",
              "\n",
              "    .colab-df-convert:hover {\n",
              "      background-color: #E2EBFA;\n",
              "      box-shadow: 0px 1px 2px rgba(60, 64, 67, 0.3), 0px 1px 3px 1px rgba(60, 64, 67, 0.15);\n",
              "      fill: #174EA6;\n",
              "    }\n",
              "\n",
              "    [theme=dark] .colab-df-convert {\n",
              "      background-color: #3B4455;\n",
              "      fill: #D2E3FC;\n",
              "    }\n",
              "\n",
              "    [theme=dark] .colab-df-convert:hover {\n",
              "      background-color: #434B5C;\n",
              "      box-shadow: 0px 1px 3px 1px rgba(0, 0, 0, 0.15);\n",
              "      filter: drop-shadow(0px 1px 2px rgba(0, 0, 0, 0.3));\n",
              "      fill: #FFFFFF;\n",
              "    }\n",
              "  </style>\n",
              "\n",
              "      <script>\n",
              "        const buttonEl =\n",
              "          document.querySelector('#df-9b4677a2-273d-42a3-8693-6bc7d3ff8f2e button.colab-df-convert');\n",
              "        buttonEl.style.display =\n",
              "          google.colab.kernel.accessAllowed ? 'block' : 'none';\n",
              "\n",
              "        async function convertToInteractive(key) {\n",
              "          const element = document.querySelector('#df-9b4677a2-273d-42a3-8693-6bc7d3ff8f2e');\n",
              "          const dataTable =\n",
              "            await google.colab.kernel.invokeFunction('convertToInteractive',\n",
              "                                                     [key], {});\n",
              "          if (!dataTable) return;\n",
              "\n",
              "          const docLinkHtml = 'Like what you see? Visit the ' +\n",
              "            '<a target=\"_blank\" href=https://colab.research.google.com/notebooks/data_table.ipynb>data table notebook</a>'\n",
              "            + ' to learn more about interactive tables.';\n",
              "          element.innerHTML = '';\n",
              "          dataTable['output_type'] = 'display_data';\n",
              "          await google.colab.output.renderOutput(dataTable, element);\n",
              "          const docLink = document.createElement('div');\n",
              "          docLink.innerHTML = docLinkHtml;\n",
              "          element.appendChild(docLink);\n",
              "        }\n",
              "      </script>\n",
              "    </div>\n",
              "  </div>\n",
              "  "
            ]
          },
          "metadata": {},
          "execution_count": 48
        }
      ],
      "source": [
        "from scipy.stats import ttest_rel, wilcoxon\n",
        "\n",
        "size = len(clf_scores)\n",
        "matrix_p_values = np.zeros((size, size)).tolist()\n",
        "\n",
        "for i_index, i in enumerate(clf_scores):\n",
        "  for j_index, j in enumerate(clf_scores):\n",
        "    if(i_index == j_index):\n",
        "      matrix_p_values[i_index][j_index] = clf[i_index]\n",
        "      continue\n",
        "    else:\n",
        "      statistic, p_value = ttest_rel(i, j) #Teste Pareado\n",
        "      matrix_p_values[i_index][j_index] = p_value\n",
        "\n",
        "      statistic, p_value = wilcoxon(i, j, method = 'approx')\n",
        "      matrix_p_values[i_index][j_index] = p_value\n",
        "\n",
        "df_p_values = pd.DataFrame(matrix_p_values)\n",
        "df_p_values"
      ]
    }
  ],
  "metadata": {
    "colab": {
      "provenance": [],
      "collapsed_sections": [
        "Vu9Ru1HlYYJW",
        "dX8A5pzJ7HGo",
        "AuAPBezZhPdP",
        "lMChnezjhSNo",
        "pstbMkxihdSn",
        "Swh6OLdkaCI-",
        "ttbVsjWspEYY",
        "SGqMQN0opIjg"
      ],
      "include_colab_link": true
    },
    "kernelspec": {
      "display_name": "Python 3",
      "name": "python3"
    },
    "language_info": {
      "name": "python"
    }
  },
  "nbformat": 4,
  "nbformat_minor": 0
}